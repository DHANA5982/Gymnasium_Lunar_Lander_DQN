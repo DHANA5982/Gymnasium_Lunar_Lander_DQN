{
  "nbformat": 4,
  "nbformat_minor": 0,
  "metadata": {
    "colab": {
      "provenance": [],
      "authorship_tag": "ABX9TyNCQoJZjQYhd9uqVRDy+shc",
      "include_colab_link": true
    },
    "kernelspec": {
      "name": "python3",
      "display_name": "Python 3"
    },
    "language_info": {
      "name": "python"
    }
  },
  "cells": [
    {
      "cell_type": "markdown",
      "metadata": {
        "id": "view-in-github",
        "colab_type": "text"
      },
      "source": [
        "<a href=\"https://colab.research.google.com/github/DHANA5982/Lunar_Landing_DQN/blob/main/Gynasium_Lunar_Landing.ipynb\" target=\"_parent\"><img src=\"https://colab.research.google.com/assets/colab-badge.svg\" alt=\"Open In Colab\"/></a>"
      ]
    },
    {
      "cell_type": "markdown",
      "source": [
        "# Luanr Landing"
      ],
      "metadata": {
        "id": "WkdNAnseunoZ"
      }
    },
    {
      "cell_type": "markdown",
      "source": [
        "### Installing Gymnasium"
      ],
      "metadata": {
        "id": "gdL2bp8avGZP"
      }
    },
    {
      "cell_type": "code",
      "source": [
        "!pip install gymnasium\n",
        "!pip install 'gymnasium[atari, accept-rom-license]'\n",
        "!apt-get install -y swig\n",
        "!pip install gymnasium[box2d]"
      ],
      "metadata": {
        "colab": {
          "base_uri": "https://localhost:8080/"
        },
        "collapsed": true,
        "id": "GrWlwOu1u3Yv",
        "outputId": "1df981ca-e1bb-4c57-e304-c7477fb6cca8"
      },
      "execution_count": 1,
      "outputs": [
        {
          "output_type": "stream",
          "name": "stdout",
          "text": [
            "Requirement already satisfied: gymnasium in /usr/local/lib/python3.11/dist-packages (1.1.1)\n",
            "Requirement already satisfied: numpy>=1.21.0 in /usr/local/lib/python3.11/dist-packages (from gymnasium) (2.0.2)\n",
            "Requirement already satisfied: cloudpickle>=1.2.0 in /usr/local/lib/python3.11/dist-packages (from gymnasium) (3.1.1)\n",
            "Requirement already satisfied: typing-extensions>=4.3.0 in /usr/local/lib/python3.11/dist-packages (from gymnasium) (4.13.2)\n",
            "Requirement already satisfied: farama-notifications>=0.0.1 in /usr/local/lib/python3.11/dist-packages (from gymnasium) (0.0.4)\n",
            "Requirement already satisfied: gymnasium[accept-rom-license,atari] in /usr/local/lib/python3.11/dist-packages (1.1.1)\n",
            "\u001b[33mWARNING: gymnasium 1.1.1 does not provide the extra 'accept-rom-license'\u001b[0m\u001b[33m\n",
            "\u001b[0mRequirement already satisfied: numpy>=1.21.0 in /usr/local/lib/python3.11/dist-packages (from gymnasium[accept-rom-license,atari]) (2.0.2)\n",
            "Requirement already satisfied: cloudpickle>=1.2.0 in /usr/local/lib/python3.11/dist-packages (from gymnasium[accept-rom-license,atari]) (3.1.1)\n",
            "Requirement already satisfied: typing-extensions>=4.3.0 in /usr/local/lib/python3.11/dist-packages (from gymnasium[accept-rom-license,atari]) (4.13.2)\n",
            "Requirement already satisfied: farama-notifications>=0.0.1 in /usr/local/lib/python3.11/dist-packages (from gymnasium[accept-rom-license,atari]) (0.0.4)\n",
            "Requirement already satisfied: ale_py>=0.9 in /usr/local/lib/python3.11/dist-packages (from gymnasium[accept-rom-license,atari]) (0.11.0)\n",
            "Reading package lists... Done\n",
            "Building dependency tree... Done\n",
            "Reading state information... Done\n",
            "The following additional packages will be installed:\n",
            "  swig4.0\n",
            "Suggested packages:\n",
            "  swig-doc swig-examples swig4.0-examples swig4.0-doc\n",
            "The following NEW packages will be installed:\n",
            "  swig swig4.0\n",
            "0 upgraded, 2 newly installed, 0 to remove and 35 not upgraded.\n",
            "Need to get 1,116 kB of archives.\n",
            "After this operation, 5,542 kB of additional disk space will be used.\n",
            "Get:1 http://archive.ubuntu.com/ubuntu jammy/universe amd64 swig4.0 amd64 4.0.2-1ubuntu1 [1,110 kB]\n",
            "Get:2 http://archive.ubuntu.com/ubuntu jammy/universe amd64 swig all 4.0.2-1ubuntu1 [5,632 B]\n",
            "Fetched 1,116 kB in 1s (1,225 kB/s)\n",
            "Selecting previously unselected package swig4.0.\n",
            "(Reading database ... 126109 files and directories currently installed.)\n",
            "Preparing to unpack .../swig4.0_4.0.2-1ubuntu1_amd64.deb ...\n",
            "Unpacking swig4.0 (4.0.2-1ubuntu1) ...\n",
            "Selecting previously unselected package swig.\n",
            "Preparing to unpack .../swig_4.0.2-1ubuntu1_all.deb ...\n",
            "Unpacking swig (4.0.2-1ubuntu1) ...\n",
            "Setting up swig4.0 (4.0.2-1ubuntu1) ...\n",
            "Setting up swig (4.0.2-1ubuntu1) ...\n",
            "Processing triggers for man-db (2.10.2-1) ...\n",
            "Requirement already satisfied: gymnasium[box2d] in /usr/local/lib/python3.11/dist-packages (1.1.1)\n",
            "Requirement already satisfied: numpy>=1.21.0 in /usr/local/lib/python3.11/dist-packages (from gymnasium[box2d]) (2.0.2)\n",
            "Requirement already satisfied: cloudpickle>=1.2.0 in /usr/local/lib/python3.11/dist-packages (from gymnasium[box2d]) (3.1.1)\n",
            "Requirement already satisfied: typing-extensions>=4.3.0 in /usr/local/lib/python3.11/dist-packages (from gymnasium[box2d]) (4.13.2)\n",
            "Requirement already satisfied: farama-notifications>=0.0.1 in /usr/local/lib/python3.11/dist-packages (from gymnasium[box2d]) (0.0.4)\n",
            "Collecting box2d-py==2.3.5 (from gymnasium[box2d])\n",
            "  Downloading box2d-py-2.3.5.tar.gz (374 kB)\n",
            "\u001b[2K     \u001b[90m━━━━━━━━━━━━━━━━━━━━━━━━━━━━━━━━━━━━━━━\u001b[0m \u001b[32m374.4/374.4 kB\u001b[0m \u001b[31m6.2 MB/s\u001b[0m eta \u001b[36m0:00:00\u001b[0m\n",
            "\u001b[?25h  Preparing metadata (setup.py) ... \u001b[?25l\u001b[?25hdone\n",
            "Requirement already satisfied: pygame>=2.1.3 in /usr/local/lib/python3.11/dist-packages (from gymnasium[box2d]) (2.6.1)\n",
            "Collecting swig==4.* (from gymnasium[box2d])\n",
            "  Downloading swig-4.3.1-py3-none-manylinux_2_12_x86_64.manylinux2010_x86_64.whl.metadata (3.5 kB)\n",
            "Downloading swig-4.3.1-py3-none-manylinux_2_12_x86_64.manylinux2010_x86_64.whl (1.9 MB)\n",
            "\u001b[2K   \u001b[90m━━━━━━━━━━━━━━━━━━━━━━━━━━━━━━━━━━━━━━━━\u001b[0m \u001b[32m1.9/1.9 MB\u001b[0m \u001b[31m42.1 MB/s\u001b[0m eta \u001b[36m0:00:00\u001b[0m\n",
            "\u001b[?25hBuilding wheels for collected packages: box2d-py\n",
            "  Building wheel for box2d-py (setup.py) ... \u001b[?25l\u001b[?25hdone\n",
            "  Created wheel for box2d-py: filename=box2d_py-2.3.5-cp311-cp311-linux_x86_64.whl size=2351231 sha256=54ca5928e3dae271850e31484188089e7bbd9b91373c7247e6d4088511bbda5c\n",
            "  Stored in directory: /root/.cache/pip/wheels/ab/f1/0c/d56f4a2bdd12bae0a0693ec33f2f0daadb5eb9753c78fa5308\n",
            "Successfully built box2d-py\n",
            "Installing collected packages: swig, box2d-py\n",
            "Successfully installed box2d-py-2.3.5 swig-4.3.1\n"
          ]
        }
      ]
    },
    {
      "cell_type": "code",
      "source": [
        "import os\n",
        "import random\n",
        "import numpy as np\n",
        "import torch\n",
        "import torch.nn as nn\n",
        "import torch.optim as optim\n",
        "import torch.nn.functional as f\n",
        "import torch.autograd as autograd\n",
        "from torch.autograd import Variable\n",
        "from collections import deque, namedtuple"
      ],
      "metadata": {
        "id": "qdFhh0cXwC8H"
      },
      "execution_count": 2,
      "outputs": []
    },
    {
      "cell_type": "markdown",
      "source": [
        "## Constructing Neural Network"
      ],
      "metadata": {
        "id": "a8VTv3iPwy6P"
      }
    },
    {
      "cell_type": "code",
      "execution_count": 18,
      "metadata": {
        "id": "Q87PU9Lkf49i"
      },
      "outputs": [],
      "source": [
        "class NeuralNetwork(nn.Module):\n",
        "\n",
        "  def __init__(self, state_size, action_size, seed = 42):\n",
        "    super(NeuralNetwork, self).__init__()\n",
        "    self.seed = torch.manual_seed(seed)\n",
        "    self.fc1 = nn.Linear(state_size, 64)\n",
        "    self.fc2 = nn.Linear(64, 64)\n",
        "    self.fc3 = nn.Linear(64, action_size)\n",
        "\n",
        "  def forward(self, state):\n",
        "    x = self.fc1(state)\n",
        "    x = f.relu(x)\n",
        "    x = self.fc2(x)\n",
        "    x = f.relu(x)\n",
        "    return self.fc3(x)"
      ]
    },
    {
      "cell_type": "markdown",
      "source": [
        "## Setting up the Environment"
      ],
      "metadata": {
        "id": "q1c_Dgmp2GhE"
      }
    },
    {
      "cell_type": "code",
      "source": [
        "import gymnasium as gym\n",
        "\n",
        "env = gym.make('LunarLander-v3')\n",
        "state_shape = env.observation_space.shape\n",
        "state_size = state_shape[0]\n",
        "action_size = env.action_space.n\n",
        "print('state shape: ',state_shape)\n",
        "print('Number of actions: ', action_size)"
      ],
      "metadata": {
        "colab": {
          "base_uri": "https://localhost:8080/"
        },
        "id": "KiaPw-j72K7F",
        "outputId": "2855f17c-cde2-4eff-f775-97359c046d3d"
      },
      "execution_count": 4,
      "outputs": [
        {
          "output_type": "stream",
          "name": "stdout",
          "text": [
            "state shape:  (8,)\n",
            "Number of actions:  4\n"
          ]
        }
      ]
    },
    {
      "cell_type": "markdown",
      "source": [
        "## Initialising Hyperparameter"
      ],
      "metadata": {
        "id": "nrW4Wx4M7z4_"
      }
    },
    {
      "cell_type": "code",
      "source": [
        "learning_rate_alpha = 5e-4\n",
        "mini_batch_size = 100\n",
        "discount_factor_gamma = 0.99\n",
        "replay_buffer_size = int(1e5)\n",
        "interpolation_parameter_tau = 1e-3"
      ],
      "metadata": {
        "id": "NMjKnK_T726W"
      },
      "execution_count": 5,
      "outputs": []
    },
    {
      "cell_type": "markdown",
      "source": [
        "## Implementing Experience Replay"
      ],
      "metadata": {
        "id": "jrUR45ff9J8n"
      }
    },
    {
      "cell_type": "code",
      "source": [
        "class RepalyMemory(object):\n",
        "  def __init__(self, capacity):\n",
        "    self.device = torch.device('cuda:0' if torch.cuda.is_available() else 'cpu')\n",
        "    self.capacity = capacity\n",
        "    self.memory = []\n",
        "\n",
        "  def push(self, event):\n",
        "    self.memory.append(event)\n",
        "    if len(self.memory) > self.capacity:\n",
        "      del self.memory[0]\n",
        "\n",
        "  def sample(self, batch_size):\n",
        "    experiences = random.sample(self.memory, k = batch_size)\n",
        "    states = torch.from_numpy(np.vstack([e[0] for e in experiences if e is not None])).float().to(self.device)\n",
        "    actions = torch.from_numpy(np.vstack([e[1] for e in experiences if e is not None])).long().to(self.device)\n",
        "    rewards = torch.from_numpy(np.vstack([e[2] for e in experiences if e is not None])).float().to(self.device)\n",
        "    next_states = torch.from_numpy(np.vstack([e[3] for e in experiences if e is not None])).float().to(self.device)\n",
        "    dones = torch.from_numpy(np.vstack([e[4] for e in experiences if e is not None]).astype(np.uint8)).float().to(self.device)\n",
        "    return states, next_states, actions, rewards, dones"
      ],
      "metadata": {
        "id": "WyJgwRSP9Obe"
      },
      "execution_count": 19,
      "outputs": []
    },
    {
      "cell_type": "markdown",
      "source": [
        "## Implementing DQN Class"
      ],
      "metadata": {
        "id": "3CDgb0N3BRTE"
      }
    },
    {
      "cell_type": "code",
      "source": [
        "class Agent():\n",
        "  def __init__(self, state_size, action_size):\n",
        "    self.device = torch.device('cuda:0' if torch.cuda.is_available() else 'cpu')\n",
        "    self.state_size = state_size\n",
        "    self.action_size = action_size\n",
        "    self.local_QNetwork = NeuralNetwork(state_size, action_size).to(self.device)\n",
        "    self.target_QNetwork = NeuralNetwork(state_size, action_size).to(self.device)\n",
        "    self.optimizer = optim.Adam(self.local_QNetwork.parameters(), lr = learning_rate_alpha)\n",
        "    self.memory = RepalyMemory(replay_buffer_size)\n",
        "    self.t_step = 0\n",
        "\n",
        "  def step(self, state, action, reward, next_state, done):\n",
        "    self.memory.push((state, action, reward, next_state, done))\n",
        "    self.t_step = (self.t_step + 1) % 4\n",
        "    if self.t_step == 0:\n",
        "      if len(self.memory.memory) > mini_batch_size:\n",
        "        experiences = self.memory.sample(100)\n",
        "        self.learn(experiences, discount_factor_gamma)\n",
        "\n",
        "  def act(self, state, epsilon = 0.):\n",
        "    state = torch.from_numpy(state).float().unsqueeze(0).to(self.device)\n",
        "    self.local_QNetwork.eval()\n",
        "    with torch.no_grad():\n",
        "      action_values = self.local_QNetwork(state)\n",
        "    self.local_QNetwork.train()\n",
        "    if random.random() > epsilon:\n",
        "      return np.argmax(action_values.cpu().data.numpy())\n",
        "    else:\n",
        "      return random.choice(np.arange(self.action_size))\n",
        "\n",
        "  def learn(self, experiences, discount_factor_gamma):\n",
        "    states, next_states, actions, rewards, dones = experiences\n",
        "    next_QTarget = self.target_QNetwork(next_states).detach().max(1)[0].unsqueeze(1)\n",
        "    QTarget = rewards + (discount_factor_gamma * next_QTarget * (1-dones))\n",
        "    QExpected = self.local_QNetwork(states).gather(1, actions)\n",
        "    loss = f.mse_loss(QExpected, QTarget)\n",
        "    self.optimizer.zero_grad()\n",
        "    loss.backward()\n",
        "    self.optimizer.step()\n",
        "    self.soft_update(self.local_QNetwork, self.target_QNetwork, interpolation_parameter_tau)\n",
        "\n",
        "  def soft_update(self, local_model, target_model, interpolation_parameter):\n",
        "    for target_param, local_param in zip(target_model.parameters(), local_model.parameters()):\n",
        "      target_param.data.copy_(interpolation_parameter * local_param.data + (1.0 - interpolation_parameter) * target_param.data)"
      ],
      "metadata": {
        "id": "MUMrmpO2BVGI"
      },
      "execution_count": 23,
      "outputs": []
    },
    {
      "cell_type": "markdown",
      "source": [
        "## Initialise the DQN Agent"
      ],
      "metadata": {
        "id": "eVDX4OMsMYJg"
      }
    },
    {
      "cell_type": "code",
      "source": [
        "agent = Agent(state_size, action_size)"
      ],
      "metadata": {
        "id": "Q_9_Fup9Mfnf"
      },
      "execution_count": 24,
      "outputs": []
    },
    {
      "cell_type": "markdown",
      "source": [
        "## Training the DQN Agent"
      ],
      "metadata": {
        "id": "U-wBUpTENDUL"
      }
    },
    {
      "cell_type": "code",
      "source": [
        "number_of_episodes = 2000\n",
        "maximum_number_timesteps_per_episode = 1000\n",
        "epsilon_starting_value = 1.0\n",
        "epsilon_ending_value = 0.01\n",
        "epsilon_decay_value = 0.995\n",
        "epsilon = epsilon_starting_value\n",
        "scores_on_100_episodes = deque(maxlen=100)\n",
        "\n",
        "for episode in range(1, number_of_episodes + 1):\n",
        "  state, _ = env.reset()\n",
        "  score = 0\n",
        "  for t in range(maximum_number_timesteps_per_episode):\n",
        "    action = agent.act(state, epsilon)\n",
        "    next_state, reward, done, _, _ = env.step(action)\n",
        "    agent.step(state, action, reward, next_state, done)\n",
        "    state = next_state\n",
        "    score += reward\n",
        "    if done:\n",
        "      break\n",
        "  scores_on_100_episodes.append(score)\n",
        "  epsilon = max(epsilon_ending_value, epsilon_decay_value * epsilon)\n",
        "  print(f\"\\rEpisode {episode}\\tAverage Score: {np.mean(scores_on_100_episodes):.2f}\", end=\"\")\n",
        "  if episode % 100 == 0:\n",
        "      print(f\"\\rEpisode {episode}\\tAverage Score: {np.mean(scores_on_100_episodes):.2f}\")\n",
        "  if np.mean(scores_on_100_episodes) >= 200.0:\n",
        "    print(f'\\nEnvironment solved in {episode - 100:d} episodes!\\tAverage Score: {np.mean(scores_on_100_episodes):.2f}')\n",
        "    torch.save(agent.local_QNetwork.state_dict(), 'checkpoint.pth')\n",
        "    break"
      ],
      "metadata": {
        "id": "OwktlZ3ZNKxH",
        "colab": {
          "base_uri": "https://localhost:8080/"
        },
        "collapsed": true,
        "outputId": "39b2491c-63c5-4982-ed15-f65ea9ad846f"
      },
      "execution_count": 25,
      "outputs": [
        {
          "output_type": "stream",
          "name": "stdout",
          "text": [
            "Episode 100\tAverage Score: -182.46\n",
            "Episode 200\tAverage Score: -79.86\n",
            "Episode 300\tAverage Score: -33.12\n",
            "Episode 400\tAverage Score: 30.50\n",
            "Episode 500\tAverage Score: 105.38\n",
            "Episode 600\tAverage Score: 175.19\n",
            "Episode 700\tAverage Score: 158.68\n",
            "Episode 744\tAverage Score: 200.01\n",
            "Environment solved in 644 episodes!\tAverage Score: 200.01\n"
          ]
        }
      ]
    },
    {
      "cell_type": "markdown",
      "source": [
        "# Visualising the results"
      ],
      "metadata": {
        "id": "BBjyXL8nfNwU"
      }
    },
    {
      "cell_type": "code",
      "source": [
        "import glob\n",
        "import io\n",
        "import base64\n",
        "import imageio\n",
        "from IPython.display import HTML, display\n",
        "from gym.wrappers.monitoring.video_recorder import VideoRecorder\n",
        "\n",
        "def show_video_of_model(agent, env_name):\n",
        "  env = gym.make(env_name, render_mode = 'rgb_array')\n",
        "  state, _ = env.reset()\n",
        "  done = False\n",
        "  frames = []\n",
        "  while not done:\n",
        "    frame = env.render()\n",
        "    frames.append(frame)\n",
        "    action = agent.act(state)\n",
        "    state, reward, done, _, _ = env.step(action.item())\n",
        "  env.close()\n",
        "  imageio.mimsave('video.mp4', frames, fps = 30)\n",
        "\n",
        "show_video_of_model(agent, 'LunarLander-v3')\n",
        "\n",
        "def show_video():\n",
        "  mp4list = glob.glob('*.mp4')\n",
        "  if len(mp4list) > 0:\n",
        "    mp4 = mp4list[0]\n",
        "    video = io.open(mp4, 'r+b').read()\n",
        "    encoded = base64.b64encode(video)\n",
        "    display(HTML(data='''<video alt=\"test\" autoplay\n",
        "            loop controls style = \"height:400px;\">\n",
        "            <source src = \"data:video.mp4;base64, {0}\" type = \"video/mp4\" />\n",
        "            </video>'''.format(encoded.decode('ascii'))))\n",
        "  else:\n",
        "    print('Could not find video')\n",
        "\n",
        "show_video()"
      ],
      "metadata": {
        "colab": {
          "base_uri": "https://localhost:8080/",
          "height": 459
        },
        "id": "pK7fUiCifNJv",
        "outputId": "de3f8d77-562e-4736-d4be-be092cb3cf6a"
      },
      "execution_count": 33,
      "outputs": [
        {
          "output_type": "stream",
          "name": "stderr",
          "text": [
            "WARNING:imageio_ffmpeg:IMAGEIO FFMPEG_WRITER WARNING: input image is not divisible by macro_block_size=16, resizing from (600, 400) to (608, 400) to ensure video compatibility with most codecs and players. To prevent resizing, make your input image divisible by the macro_block_size or set the macro_block_size to 1 (risking incompatibility).\n"
          ]
        },
        {
          "output_type": "display_data",
          "data": {
            "text/plain": [
              "<IPython.core.display.HTML object>"
            ],
            "text/html": [
              "<video alt=\"test\" autoplay\n",
              "            loop controls style = \"height:400px;\">\n",
              "            <source src = \"data:video.mp4;base64, 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\" type = \"video/mp4\" />\n",
              "            </video>"
            ]
          },
          "metadata": {}
        }
      ]
    },
    {
      "cell_type": "code",
      "source": [],
      "metadata": {
        "id": "1oqKpf_IqI2v"
      },
      "execution_count": null,
      "outputs": []
    }
  ]
}